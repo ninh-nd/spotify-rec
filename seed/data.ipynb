{
 "cells": [
  {
   "cell_type": "code",
   "execution_count": 1,
   "id": "3e69e927",
   "metadata": {},
   "outputs": [],
   "source": [
    "import pandas as pd"
   ]
  },
  {
   "cell_type": "code",
   "execution_count": 2,
   "id": "3127deaf",
   "metadata": {},
   "outputs": [],
   "source": [
    "spreadsheetId = pd.read_csv('D:\\ITSS_DataScience\\spotify-rec\\song_id.csv')"
   ]
  },
  {
   "cell_type": "code",
   "execution_count": 3,
   "id": "da868117",
   "metadata": {},
   "outputs": [
    {
     "data": {
      "text/html": [
       "<div>\n",
       "<style scoped>\n",
       "    .dataframe tbody tr th:only-of-type {\n",
       "        vertical-align: middle;\n",
       "    }\n",
       "\n",
       "    .dataframe tbody tr th {\n",
       "        vertical-align: top;\n",
       "    }\n",
       "\n",
       "    .dataframe thead th {\n",
       "        text-align: right;\n",
       "    }\n",
       "</style>\n",
       "<table border=\"1\" class=\"dataframe\">\n",
       "  <thead>\n",
       "    <tr style=\"text-align: right;\">\n",
       "      <th></th>\n",
       "      <th>id</th>\n",
       "    </tr>\n",
       "  </thead>\n",
       "  <tbody>\n",
       "    <tr>\n",
       "      <th>0</th>\n",
       "      <td>0JXXNGljqupsJaZsgSbMZV</td>\n",
       "    </tr>\n",
       "    <tr>\n",
       "      <th>1</th>\n",
       "      <td>51pshtuYkgUQnt5huMPbKL</td>\n",
       "    </tr>\n",
       "    <tr>\n",
       "      <th>2</th>\n",
       "      <td>7BqBn9nzAq8spo5e7cZ0dJ</td>\n",
       "    </tr>\n",
       "    <tr>\n",
       "      <th>3</th>\n",
       "      <td>161DnLWsx1i3u1JT05lzqU</td>\n",
       "    </tr>\n",
       "    <tr>\n",
       "      <th>4</th>\n",
       "      <td>1eUGmzzvahJjOSWgDHuRlv</td>\n",
       "    </tr>\n",
       "  </tbody>\n",
       "</table>\n",
       "</div>"
      ],
      "text/plain": [
       "                       id\n",
       "0  0JXXNGljqupsJaZsgSbMZV\n",
       "1  51pshtuYkgUQnt5huMPbKL\n",
       "2  7BqBn9nzAq8spo5e7cZ0dJ\n",
       "3  161DnLWsx1i3u1JT05lzqU\n",
       "4  1eUGmzzvahJjOSWgDHuRlv"
      ]
     },
     "execution_count": 3,
     "metadata": {},
     "output_type": "execute_result"
    }
   ],
   "source": [
    "spreadsheetId.head()"
   ]
  },
  {
   "cell_type": "code",
   "execution_count": 4,
   "id": "10866a4b",
   "metadata": {},
   "outputs": [],
   "source": [
    "spreadsheetFeature = pd.read_csv('D:\\ITSS_DataScience\\spotify-rec\\song_features.csv')"
   ]
  },
  {
   "cell_type": "code",
   "execution_count": 5,
   "id": "2d5a2a2b",
   "metadata": {},
   "outputs": [
    {
     "data": {
      "text/html": [
       "<div>\n",
       "<style scoped>\n",
       "    .dataframe tbody tr th:only-of-type {\n",
       "        vertical-align: middle;\n",
       "    }\n",
       "\n",
       "    .dataframe tbody tr th {\n",
       "        vertical-align: top;\n",
       "    }\n",
       "\n",
       "    .dataframe thead th {\n",
       "        text-align: right;\n",
       "    }\n",
       "</style>\n",
       "<table border=\"1\" class=\"dataframe\">\n",
       "  <thead>\n",
       "    <tr style=\"text-align: right;\">\n",
       "      <th></th>\n",
       "      <th>id</th>\n",
       "      <th>acousticness</th>\n",
       "      <th>danceability</th>\n",
       "      <th>energy</th>\n",
       "      <th>instrumentalness</th>\n",
       "      <th>liveness</th>\n",
       "      <th>loudness</th>\n",
       "      <th>speechiness</th>\n",
       "      <th>tempo</th>\n",
       "      <th>valence</th>\n",
       "    </tr>\n",
       "  </thead>\n",
       "  <tbody>\n",
       "    <tr>\n",
       "      <th>0</th>\n",
       "      <td>0JXXNGljqupsJaZsgSbMZV</td>\n",
       "      <td>0.0267</td>\n",
       "      <td>0.684</td>\n",
       "      <td>0.607</td>\n",
       "      <td>0.000307</td>\n",
       "      <td>0.1910</td>\n",
       "      <td>-8.127</td>\n",
       "      <td>0.1000</td>\n",
       "      <td>81.001</td>\n",
       "      <td>0.4980</td>\n",
       "    </tr>\n",
       "    <tr>\n",
       "      <th>1</th>\n",
       "      <td>51pshtuYkgUQnt5huMPbKL</td>\n",
       "      <td>0.0135</td>\n",
       "      <td>0.794</td>\n",
       "      <td>0.766</td>\n",
       "      <td>0.000000</td>\n",
       "      <td>0.0785</td>\n",
       "      <td>-3.894</td>\n",
       "      <td>0.0377</td>\n",
       "      <td>127.007</td>\n",
       "      <td>0.5500</td>\n",
       "    </tr>\n",
       "    <tr>\n",
       "      <th>2</th>\n",
       "      <td>7BqBn9nzAq8spo5e7cZ0dJ</td>\n",
       "      <td>0.0134</td>\n",
       "      <td>0.635</td>\n",
       "      <td>0.841</td>\n",
       "      <td>0.000000</td>\n",
       "      <td>0.0622</td>\n",
       "      <td>-5.379</td>\n",
       "      <td>0.0422</td>\n",
       "      <td>109.021</td>\n",
       "      <td>0.4240</td>\n",
       "    </tr>\n",
       "    <tr>\n",
       "      <th>3</th>\n",
       "      <td>161DnLWsx1i3u1JT05lzqU</td>\n",
       "      <td>0.5110</td>\n",
       "      <td>0.498</td>\n",
       "      <td>0.590</td>\n",
       "      <td>0.000000</td>\n",
       "      <td>0.1070</td>\n",
       "      <td>-4.721</td>\n",
       "      <td>0.0320</td>\n",
       "      <td>145.867</td>\n",
       "      <td>0.0784</td>\n",
       "    </tr>\n",
       "    <tr>\n",
       "      <th>4</th>\n",
       "      <td>1eUGmzzvahJjOSWgDHuRlv</td>\n",
       "      <td>0.8560</td>\n",
       "      <td>0.372</td>\n",
       "      <td>0.239</td>\n",
       "      <td>0.000175</td>\n",
       "      <td>0.1680</td>\n",
       "      <td>-11.314</td>\n",
       "      <td>0.0296</td>\n",
       "      <td>113.451</td>\n",
       "      <td>0.1270</td>\n",
       "    </tr>\n",
       "  </tbody>\n",
       "</table>\n",
       "</div>"
      ],
      "text/plain": [
       "                       id  acousticness  danceability  energy  \\\n",
       "0  0JXXNGljqupsJaZsgSbMZV        0.0267         0.684   0.607   \n",
       "1  51pshtuYkgUQnt5huMPbKL        0.0135         0.794   0.766   \n",
       "2  7BqBn9nzAq8spo5e7cZ0dJ        0.0134         0.635   0.841   \n",
       "3  161DnLWsx1i3u1JT05lzqU        0.5110         0.498   0.590   \n",
       "4  1eUGmzzvahJjOSWgDHuRlv        0.8560         0.372   0.239   \n",
       "\n",
       "   instrumentalness  liveness  loudness  speechiness    tempo  valence  \n",
       "0          0.000307    0.1910    -8.127       0.1000   81.001   0.4980  \n",
       "1          0.000000    0.0785    -3.894       0.0377  127.007   0.5500  \n",
       "2          0.000000    0.0622    -5.379       0.0422  109.021   0.4240  \n",
       "3          0.000000    0.1070    -4.721       0.0320  145.867   0.0784  \n",
       "4          0.000175    0.1680   -11.314       0.0296  113.451   0.1270  "
      ]
     },
     "execution_count": 5,
     "metadata": {},
     "output_type": "execute_result"
    }
   ],
   "source": [
    "spreadsheetFeature.head()"
   ]
  },
  {
   "cell_type": "code",
   "execution_count": null,
   "id": "82c74211",
   "metadata": {},
   "outputs": [],
   "source": []
  }
 ],
 "metadata": {
  "kernelspec": {
   "display_name": "Python 3 (ipykernel)",
   "language": "python",
   "name": "python3"
  },
  "language_info": {
   "codemirror_mode": {
    "name": "ipython",
    "version": 3
   },
   "file_extension": ".py",
   "mimetype": "text/x-python",
   "name": "python",
   "nbconvert_exporter": "python",
   "pygments_lexer": "ipython3",
   "version": "3.10.2"
  }
 },
 "nbformat": 4,
 "nbformat_minor": 5
}
